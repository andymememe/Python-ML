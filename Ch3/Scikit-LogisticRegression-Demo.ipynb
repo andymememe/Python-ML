{
 "cells": [
  {
   "cell_type": "code",
   "execution_count": 1,
   "metadata": {
    "collapsed": true
   },
   "outputs": [],
   "source": [
    "\"\"\"\n",
    "[Logistic Regression]\n",
    "It's a classification model, not a regression.\n",
    "Good at linear and binary classification (Able to use OvR for multiclass classification).\n",
    "\n",
    "Odds ratio:\n",
    "p : probability of positive event\n",
    "Odds ratio = p / (1 - p)\n",
    "Log-odds (logit) : logit(p) = log(p / (1 - p))\n",
    "    logit(p(y = 1 | X)) = transpose(W) * X\n",
    "\n",
    "Logistic function:\n",
    "    Inverse logit function : logistic function (sigmoid)\n",
    "        => Predict probability of some sample is in some class\n",
    "        o(z) = 1 / (1 + exp(-z)) = transpose(W) * X\n",
    "\"\"\"\n",
    "import matplotlib.pyplot as plt\n",
    "import numpy as np"
   ]
  },
  {
   "cell_type": "code",
   "execution_count": 2,
   "metadata": {
    "collapsed": false
   },
   "outputs": [],
   "source": [
    "# Sigmoid\n",
    "def sigmoid(z):\n",
    "    \"\"\"\n",
    "    Sigmoid Function\n",
    "    \n",
    "    Parameters:\n",
    "    z : list\n",
    "        Input\n",
    "    \n",
    "    Returns:\n",
    "    1 / (1 + exp(-z))\n",
    "    \"\"\"\n",
    "    return 1.0 / (1.0 + np.exp(-z))"
   ]
  },
  {
   "cell_type": "code",
   "execution_count": 3,
   "metadata": {
    "collapsed": false
   },
   "outputs": [
    {
     "data": {
      "image/png": "[encoded data removed]",
      "text/plain": [
       "<matplotlib.figure.Figure at 0x7f8937e918d0>"
      ]
     },
     "metadata": {},
     "output_type": "display_data"
    }
   ],
   "source": [
    "# Plot sigmoid\n",
    "z = np.arange(-7, 7, 0.1)\n",
    "phi_z = sigmoid(z)\n",
    "plt.plot(z, phi_z)\n",
    "plt.axvline(0.0, color='k')\n",
    "plt.axhspan(0.0, 1.0, facecolor='1.0', alpha=1.0, ls='dotted')\n",
    "plt.axhline(y=0.5, ls='dotted', color='k')\n",
    "plt.yticks([0.0, 0.5, 1.0])\n",
    "plt.ylim(-0.1, 1.1)\n",
    "plt.xlabel('z')\n",
    "plt.ylabel('$\\phi (z)$')\n",
    "plt.show()"
   ]
  }
 ],
 "metadata": {
  "kernelspec": {
   "display_name": "Python 3",
   "language": "python",
   "name": "python3"
  },
  "language_info": {
   "codemirror_mode": {
    "name": "ipython",
    "version": 3
   },
   "file_extension": ".py",
   "mimetype": "text/x-python",
   "name": "python",
   "nbconvert_exporter": "python",
   "pygments_lexer": "ipython3",
   "version": "3.5.2"
  }
 },
 "nbformat": 4,
 "nbformat_minor": 1
}
